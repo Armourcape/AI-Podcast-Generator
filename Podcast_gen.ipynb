{
  "nbformat": 4,
  "nbformat_minor": 0,
  "metadata": {
    "colab": {
      "provenance": []
    },
    "kernelspec": {
      "name": "python3",
      "display_name": "Python 3"
    },
    "language_info": {
      "name": "python"
    }
  },
  "cells": [
    {
      "cell_type": "code",
      "execution_count": null,
      "metadata": {
        "id": "ao2xXr20GT_T"
      },
      "outputs": [],
      "source": [
        "!pip install -q groq"
      ]
    },
    {
      "cell_type": "code",
      "source": [
        "from groq import Groq\n",
        "\n",
        "# your Groq API key\n",
        "client = Groq(\n",
        "    api_key='',\n",
        ")\n",
        "\n",
        "# your fakeyou email and password\n",
        "fy_email = ''\n",
        "fy_password = ''"
      ],
      "metadata": {
        "id": "bDHQKyXJKE4i"
      },
      "execution_count": null,
      "outputs": []
    },
    {
      "cell_type": "markdown",
      "source": [
        "\n",
        "\n",
        "| Supported Characters \t| FakeYou Voice IDs                \t|\n",
        "|----------------------\t|----------------------------------\t|\n",
        "| rick sanchez         \t| weight_0f762jdzgsy1dhpb86qxy4ssm \t|\n",
        "| barack obama         \t| weight_8f3r8hwt0j58j68ayzzfgsh8h \t|\n",
        "\n"
      ],
      "metadata": {
        "id": "SsoWzf5g68CQ"
      }
    },
    {
      "cell_type": "code",
      "source": [
        "def scriptGen(person1, person2):\n",
        "  chat_completion = client.chat.completions.create(\n",
        "      messages=[\n",
        "          {\n",
        "              \"role\": \"user\",\n",
        "              \"content\": f\"Write the script for a 5 min podcast between {person1} and {person2}, showcasing their personalities. dialogues only without laughs, excitedly, pauses. no bold.\",\n",
        "          }\n",
        "      ],\n",
        "      model=\"llama3-70b-8192\",\n",
        "  )\n",
        "  print(chat_completion.choices[0].message.content)\n",
        "  script = chat_completion.choices[0].message.content\n",
        "  return script\n",
        "\n",
        "#scriptGen(\"rick sanchez, barack obama\")"
      ],
      "metadata": {
        "id": "HnMAtLquKFj-"
      },
      "execution_count": null,
      "outputs": []
    },
    {
      "cell_type": "code",
      "source": [
        "def parse_dialogue(dialogue):\n",
        "    lines = dialogue.split('\\n\\n')\n",
        "    dialogues = []\n",
        "    current_character = None\n",
        "    for line in lines:\n",
        "        if line.startswith('Rick Sanchez'):\n",
        "            current_character = 'Rick Sanchez'\n",
        "            dialogues.append({'Character': current_character, 'Dialogue': line.split(':', 1)[1].strip(), 'VoiceID': \"weight_0f762jdzgsy1dhpb86qxy4ssm\"})\n",
        "        elif line.startswith('Barack Obama'):\n",
        "            current_character = 'Barack Obama'\n",
        "            dialogues.append({'Character': current_character, 'Dialogue': line.split(':', 1)[1].strip(), 'VoiceID': \"weight_8f3r8hwt0j58j68ayzzfgsh8h\"})\n",
        "        elif current_character:\n",
        "            dialogues[-1]['Dialogue'] += ' ' + line.strip()\n",
        "    return dialogues\n",
        "\n",
        "#print(parse_dialogue(scriptGen(\"rick sanchez, barack obama\")))"
      ],
      "metadata": {
        "id": "gRknZrJvKIcj"
      },
      "execution_count": null,
      "outputs": []
    },
    {
      "cell_type": "code",
      "source": [
        "!pip install fakeyou"
      ],
      "metadata": {
        "id": "pl7RJFTIKPG-"
      },
      "execution_count": null,
      "outputs": []
    },
    {
      "cell_type": "code",
      "source": [
        "import fakeyou\n",
        "import time\n",
        "\n",
        "# Initialize the fakeyou client\n",
        "fy = fakeyou.FakeYou()\n",
        "\n",
        "# Call the login method with email and password\n",
        "fy.login(fy_email, fy_password)\n",
        "\n",
        "# Parse the dialogues\n",
        "dialogues = parse_dialogue(scriptGen(\"rick sanchez, barack obama\"))\n",
        "var = -1\n",
        "for idx, dialogue in enumerate(dialogues):\n",
        "    text = dialogue['Dialogue']\n",
        "    file_name = f\"dialogue_{idx}.wav\"\n",
        "    voice_id = dialogue['VoiceID']\n",
        "    fy.say(text, voice_id).save(file_name)\n",
        "    print(f\"Saved dialogue {idx} as {file_name}\")\n",
        "    var += 1\n",
        "    time.sleep(30)"
      ],
      "metadata": {
        "id": "scqc0ssIKPuM"
      },
      "execution_count": null,
      "outputs": []
    },
    {
      "cell_type": "code",
      "source": [
        "import wave\n",
        "\n",
        "def merge_wavs(output_file, input_files):\n",
        "\n",
        "  with wave.open(output_file, 'wb') as output:\n",
        "    with wave.open(input_files[0], 'rb') as input:\n",
        "      output.setparams(input.getparams())\n",
        "    for input_file in input_files:\n",
        "      with wave.open(input_file, 'rb') as input:\n",
        "        output.writeframes(input.readframes(input.getnframes()))\n",
        "\n",
        "# Merge the WAV files\n",
        "merge_wavs(\"podcast.wav\", [f\"dialogue_{i}.wav\" for i in range(int(var))])"
      ],
      "metadata": {
        "id": "COjIFarAKXFj"
      },
      "execution_count": null,
      "outputs": []
    }
  ]
}